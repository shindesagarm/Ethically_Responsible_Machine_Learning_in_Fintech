{
  "nbformat": 4,
  "nbformat_minor": 0,
  "metadata": {
    "colab": {
      "name": "Credit_Card_Approval_Explainability.ipynb",
      "provenance": []
    },
    "kernelspec": {
      "display_name": "Python 3",
      "language": "python",
      "name": "python3"
    },
    "language_info": {
      "codemirror_mode": {
        "name": "ipython",
        "version": 3
      },
      "file_extension": ".py",
      "mimetype": "text/x-python",
      "name": "python",
      "nbconvert_exporter": "python",
      "pygments_lexer": "ipython3",
      "version": "3.8.8"
    }
  },
  "cells": [
    {
      "cell_type": "code",
      "metadata": {
        "id": "P2IMH5PAhZQK"
      },
      "source": [
        "#This is the first python code file used for Ethical Princiles comparison, making use of the AIML techniques.      ],
      "execution_count": 1,
      "outputs": []
    },
    {
      "cell_type": "markdown",
      "metadata": {
        "id": "v-cxKTUtPneX"
      },
      "source": [
        "# 1. Data Preprocessing"
      ]
    },
    {
      "cell_type": "code",
      "metadata": {
        "id": "2ZJEmXyk-uPv"
      },
      "source": [
        "import numpy as np\n",
        "import pandas as pd\n",
        "import seaborn as sns\n",
        "import matplotlib.pyplot as plt\n",
        "%matplotlib inline\n",
        "import warnings\n",
        "warnings.filterwarnings(\"ignore\")\n",
        "\n",
        "# URL of the CSV file\n",
        "url = \"https://github.com/shindesagarm/Ethically_Responsible_Machine_Learning_in_Fintech/blob/main/explainability_notebook/cc_dataset.csv?raw=true\"\n",
        "\n",
        "# Read the CSV file into a DataFrame\n",
        "df = pd.read_csv(url)"
      ],
      "execution_count": 2,
      "outputs": []
    },
    {
      "cell_type": "markdown",
      "metadata": {
        "id": "6h2Pv-4C-uP9"
      },
      "source": [
        "## Data Loading"
      ]
    },
    {
      "cell_type": "code",
      "metadata": {
        "id": "C7m0ouE2-uQC",
        "scrolled": true,
        "outputId": "999d4510-2d27-4d10-a88d-15132d4e60ad",
        "colab": {
          "base_uri": "https://localhost:8080/",
          "height": 332
        }
      },
      "source": [
        "# Read the data file\n",
        "dataset = pd.read_csv(url)\n",
        "# Replace \"?\" with NaN\n",
        "dataset.replace('?', np.nan, inplace = True)\n",
        "# Convert Age to numeric\n",
        "dataset[\"Age\"] = pd.to_numeric(dataset[\"Age\"])\n",
        "# dataset2 = dataset[:,:]\n",
        "dataset2 = dataset.copy()"
      ],
      "execution_count": 3,
      "outputs": [
        {
          "output_type": "error",
          "ename": "AttributeError",
          "evalue": "`np.NaN` was removed in the NumPy 2.0 release. Use `np.nan` instead.",
          "traceback": [
            "\u001b[0;31m---------------------------------------------------------------------------\u001b[0m",
            "\u001b[0;31mAttributeError\u001b[0m                            Traceback (most recent call last)",
            "\u001b[0;32m<ipython-input-3-c2b36f0c3941>\u001b[0m in \u001b[0;36m<cell line: 0>\u001b[0;34m()\u001b[0m\n\u001b[1;32m      2\u001b[0m \u001b[0mdataset\u001b[0m \u001b[0;34m=\u001b[0m \u001b[0mpd\u001b[0m\u001b[0;34m.\u001b[0m\u001b[0mread_csv\u001b[0m\u001b[0;34m(\u001b[0m\u001b[0murl\u001b[0m\u001b[0;34m)\u001b[0m\u001b[0;34m\u001b[0m\u001b[0;34m\u001b[0m\u001b[0m\n\u001b[1;32m      3\u001b[0m \u001b[0;31m# Replace \"?\" with NaN\u001b[0m\u001b[0;34m\u001b[0m\u001b[0;34m\u001b[0m\u001b[0m\n\u001b[0;32m----> 4\u001b[0;31m \u001b[0mdataset\u001b[0m\u001b[0;34m.\u001b[0m\u001b[0mreplace\u001b[0m\u001b[0;34m(\u001b[0m\u001b[0;34m'?'\u001b[0m\u001b[0;34m,\u001b[0m \u001b[0mnp\u001b[0m\u001b[0;34m.\u001b[0m\u001b[0mNaN\u001b[0m\u001b[0;34m,\u001b[0m \u001b[0minplace\u001b[0m \u001b[0;34m=\u001b[0m \u001b[0;32mTrue\u001b[0m\u001b[0;34m)\u001b[0m\u001b[0;34m\u001b[0m\u001b[0;34m\u001b[0m\u001b[0m\n\u001b[0m\u001b[1;32m      5\u001b[0m \u001b[0;31m# Convert Age to numeric\u001b[0m\u001b[0;34m\u001b[0m\u001b[0;34m\u001b[0m\u001b[0m\n\u001b[1;32m      6\u001b[0m \u001b[0mdataset\u001b[0m\u001b[0;34m[\u001b[0m\u001b[0;34m\"Age\"\u001b[0m\u001b[0;34m]\u001b[0m \u001b[0;34m=\u001b[0m \u001b[0mpd\u001b[0m\u001b[0;34m.\u001b[0m\u001b[0mto_numeric\u001b[0m\u001b[0;34m(\u001b[0m\u001b[0mdataset\u001b[0m\u001b[0;34m[\u001b[0m\u001b[0;34m\"Age\"\u001b[0m\u001b[0;34m]\u001b[0m\u001b[0;34m)\u001b[0m\u001b[0;34m\u001b[0m\u001b[0;34m\u001b[0m\u001b[0m\n",
            "\u001b[0;32m/usr/local/lib/python3.11/dist-packages/numpy/__init__.py\u001b[0m in \u001b[0;36m__getattr__\u001b[0;34m(attr)\u001b[0m\n\u001b[1;32m    395\u001b[0m \u001b[0;34m\u001b[0m\u001b[0m\n\u001b[1;32m    396\u001b[0m         \u001b[0;32mif\u001b[0m \u001b[0mattr\u001b[0m \u001b[0;32min\u001b[0m \u001b[0m__expired_attributes__\u001b[0m\u001b[0;34m:\u001b[0m\u001b[0;34m\u001b[0m\u001b[0;34m\u001b[0m\u001b[0m\n\u001b[0;32m--> 397\u001b[0;31m             raise AttributeError(\n\u001b[0m\u001b[1;32m    398\u001b[0m                 \u001b[0;34mf\"`np.{attr}` was removed in the NumPy 2.0 release. \"\u001b[0m\u001b[0;34m\u001b[0m\u001b[0;34m\u001b[0m\u001b[0m\n\u001b[1;32m    399\u001b[0m                 \u001b[0;34mf\"{__expired_attributes__[attr]}\"\u001b[0m\u001b[0;34m\u001b[0m\u001b[0;34m\u001b[0m\u001b[0m\n",
            "\u001b[0;31mAttributeError\u001b[0m: `np.NaN` was removed in the NumPy 2.0 release. Use `np.nan` instead."
          ]
        }
      ]
    },
    {
      "cell_type": "code",
      "metadata": {
        "id": "NaV6TNyJxaOi"
      },
      "source": [
        "dataset.describe()"
      ],
      "execution_count": null,
      "outputs": []
    },
    {
      "cell_type": "code",
      "metadata": {
        "id": "2uYfdILSxgMz"
      },
      "source": [
        "dataset.isnull().sum()"
      ],
      "execution_count": null,
      "outputs": []
    },
    {
      "cell_type": "markdown",
      "metadata": {
        "id": "hbDEF3MG-uQL"
      },
      "source": [
        "## Data Preparation"
      ]
    },
    {
      "cell_type": "code",
      "metadata": {
        "id": "LQ_sFKUQ-uQN"
      },
      "source": [
        "# Replace missing values for numerical columns with their mean value\n",
        "#dataset.fillna(dataset.mean(), inplace=True)\n",
        "import pandas as pd\n",
        "\n",
        "# Fill missing values for numerical columns with their mean value\n",
        "numeric_cols = dataset.select_dtypes(include=['number']).columns\n",
        "dataset[numeric_cols] = dataset[numeric_cols].fillna(dataset[numeric_cols].mean())\n",
        "\n",
        "# Fill missing values for non-numerical columns with a placeholder (e.g., 'missing')\n",
        "non_numeric_cols = dataset.select_dtypes(exclude=['number']).columns\n",
        "dataset[non_numeric_cols] = dataset[non_numeric_cols].fillna('missing')"
      ],
      "execution_count": null,
      "outputs": []
    },
    {
      "cell_type": "code",
      "metadata": {
        "id": "4vz1qPAn-uQQ",
        "scrolled": false
      },
      "source": [
        "dataset.tail(10)"
      ],
      "execution_count": null,
      "outputs": []
    },
    {
      "cell_type": "code",
      "metadata": {
        "id": "G0cNgTUa-uQT"
      },
      "source": [
        "dataset.info()"
      ],
      "execution_count": null,
      "outputs": []
    },
    {
      "cell_type": "code",
      "source": [
        "sns.countplot(data = dataset, x = 'Approved')"
      ],
      "metadata": {
        "id": "NgAeJxbSJiKZ"
      },
      "execution_count": null,
      "outputs": []
    },
    {
      "cell_type": "code",
      "metadata": {
        "id": "LM4eVdGs-uQf",
        "scrolled": true
      },
      "source": [
        "dataset.isnull().sum()"
      ],
      "execution_count": null,
      "outputs": []
    },
    {
      "cell_type": "code",
      "metadata": {
        "id": "XLI0T2UW-uQh",
        "scrolled": false
      },
      "source": [
        "print(\"The shape of the data is: \", dataset.shape)"
      ],
      "execution_count": null,
      "outputs": []
    },
    {
      "cell_type": "code",
      "metadata": {
        "id": "WR5AiRNO-uQj"
      },
      "source": [
        "def replaceWithMode(df):\n",
        "    \"\"\"\n",
        "    Replace missing values in categorical colums with their most frequent value\n",
        "    \"\"\"\n",
        "    for col in df:\n",
        "        if df[col].dtypes == 'object':\n",
        "            df[col] = df[col].fillna(df[col].mode().iloc[0])\n",
        "replaceWithMode(dataset)"
      ],
      "execution_count": null,
      "outputs": []
    },
    {
      "cell_type": "code",
      "metadata": {
        "id": "eDlem1v6-uQk"
      },
      "source": [
        "dataset.isnull().sum()"
      ],
      "execution_count": null,
      "outputs": []
    },
    {
      "cell_type": "code",
      "metadata": {
        "id": "pYHNN7oB-uQl"
      },
      "source": [
        "# Using a label encoder to convert categorical colums into numeric types\n",
        "from sklearn.preprocessing import LabelEncoder\n",
        "le = LabelEncoder()\n",
        "for col in dataset:\n",
        "    if dataset[col].dtypes=='object':\n",
        "        dataset[col]=le.fit_transform(dataset[col])"
      ],
      "execution_count": null,
      "outputs": []
    },
    {
      "cell_type": "code",
      "metadata": {
        "id": "KhX0Mh6Q-uQm"
      },
      "source": [
        "dataset.tail(15)"
      ],
      "execution_count": null,
      "outputs": []
    },
    {
      "cell_type": "code",
      "metadata": {
        "id": "W9kOJBZfWXVm"
      },
      "source": [
        "# The labeling in the dataset uses 0 and 1 to encode approved and declined users.\n",
        "# Here we revert the values so that 1 denotes \"approval\", while 0 denotes \"declined\".\n",
        "for idx, row in dataset.iterrows():\n",
        "  if dataset.loc[idx, 'Approved'] == 0:\n",
        "    dataset.loc[idx, 'Approved'] = 1\n",
        "  elif dataset.loc[idx, 'Approved'] == 1:\n",
        "    dataset.loc[idx, 'Approved'] = 0"
      ],
      "execution_count": null,
      "outputs": []
    },
    {
      "cell_type": "code",
      "metadata": {
        "id": "yXklLCWrBM7A"
      },
      "source": [
        "# It can be shown that the labeling in the dataset uses 0 and 1 to encode having a prior default or not having one.\n",
        "# The values are reverted below to achieve more intuitive labeling.\n",
        "for idx, row in dataset.iterrows():\n",
        "  if dataset.loc[idx, 'PriorDefault'] == 0:\n",
        "    dataset.loc[idx, 'PriorDefault'] = 1\n",
        "  elif dataset.loc[idx, 'PriorDefault'] == 1:\n",
        "    dataset.loc[idx, 'PriorDefault'] = 0"
      ],
      "execution_count": null,
      "outputs": []
    },
    {
      "cell_type": "code",
      "metadata": {
        "id": "lcKVsJ4kBM7A"
      },
      "source": [
        "dataset_df = pd.DataFrame(dataset)\n",
        "dataset_df.to_csv('dataset_processed.csv', index=False)\n",
        "dataset_df.head()"
      ],
      "execution_count": null,
      "outputs": []
    },
    {
      "cell_type": "markdown",
      "metadata": {
        "id": "5BD3dCS1-uQo"
      },
      "source": [
        "## Data Modeling"
      ]
    },
    {
      "cell_type": "code",
      "metadata": {
        "id": "IM2ZaWdw-uQo"
      },
      "source": [
        "from sklearn.model_selection import train_test_split\n",
        "# Removing the feature which are not important and converting to NumPy array\n",
        "dataset = dataset.drop(['DriversLicense', 'ZipCode'], axis=1)\n",
        "dataset = dataset.values"
      ],
      "execution_count": null,
      "outputs": []
    },
    {
      "cell_type": "code",
      "metadata": {
        "id": "vp6c9vAR-uQp"
      },
      "source": [
        "# Creating new variable to input features and labels\n",
        "X,y = dataset[:,0:13] , dataset[:,13]\n",
        "\n",
        "# Spliting the data into training and testing sets\n",
        "X_train, X_test, y_train, y_test = train_test_split(X,\n",
        "                                y,\n",
        "                                test_size=0.3,\n",
        "                                random_state=123)"
      ],
      "execution_count": null,
      "outputs": []
    },
    {
      "cell_type": "code",
      "metadata": {
        "id": "rVP7qDaC-uQr"
      },
      "source": [
        "# Import MinMaxScaler\n",
        "from sklearn.preprocessing import MinMaxScaler\n",
        "\n",
        "# Scaling X_train and X_test\n",
        "scaler = MinMaxScaler(feature_range=(0, 1))\n",
        "rescaledX_train = scaler.fit_transform(X_train)\n",
        "rescaledX_test = scaler.transform(X_test)\n",
        "\n",
        "# Scaling X\n",
        "rescaledX = scaler.transform(X)"
      ],
      "execution_count": null,
      "outputs": []
    },
    {
      "cell_type": "code",
      "metadata": {
        "id": "_yrkrwntGMlb"
      },
      "source": [
        "# Note: Used for experimental purposes only to evaluate accuracy performance with and without scaling\n",
        "rescaledX_train = X_train\n",
        "rescaledX_test = X_test\n",
        "rescaledX = X"
      ],
      "execution_count": null,
      "outputs": []
    },
    {
      "cell_type": "markdown",
      "metadata": {
        "id": "z5ewdzcG_42s"
      },
      "source": [
        "# 2. Microsoft RAI Widgets\n",
        "\n",
        "\n",
        "\n"
      ]
    },
    {
      "cell_type": "markdown",
      "metadata": {
        "id": "uLnZjBX65my1"
      },
      "source": [
        "## Install Explainability Tools"
      ]
    },
    {
      "cell_type": "code",
      "metadata": {
        "id": "flUwdUgTAJHb"
      },
      "source": [
        "!pip install --upgrade raiwidgets"
      ],
      "execution_count": null,
      "outputs": []
    },
    {
      "cell_type": "code",
      "metadata": {
        "id": "5DCwUqwaAMqT"
      },
      "source": [
        "!pip install --upgrade interpret-community\n",
        "from interpret.ext.blackbox import TabularExplainer"
      ],
      "execution_count": null,
      "outputs": []
    },
    {
      "cell_type": "code",
      "metadata": {
        "id": "CwQTyL24ATOl"
      },
      "source": [
        "# Explainer Used: Mimic Explainer\n",
        "from interpret.ext.blackbox import MimicExplainer\n",
        "from interpret.ext.glassbox import LinearExplainableModel\n",
        "from interpret.ext.glassbox import LGBMExplainableModel"
      ],
      "execution_count": null,
      "outputs": []
    },
    {
      "cell_type": "code",
      "metadata": {
        "id": "jsOALAZ07yRZ"
      },
      "source": [
        "import os\n",
        "\n",
        "# Set the PYARROW_IGNORE_TIMEZONE environment variable\n",
        "os.environ[\"PYARROW_IGNORE_TIMEZONE\"] = \"1\"\n",
        "\n",
        "# Now you can import and use the ErrorAnalysisDashboard\n",
        "from raiwidgets import ErrorAnalysisDashboard"
      ],
      "execution_count": null,
      "outputs": []
    },
    {
      "cell_type": "code",
      "metadata": {
        "id": "rWBTETGsMdvD"
      },
      "source": [
        "# Import metrics for evaluating the classifiers\n",
        "from sklearn.metrics import accuracy_score, confusion_matrix"
      ],
      "execution_count": null,
      "outputs": []
    },
    {
      "cell_type": "markdown",
      "metadata": {
        "id": "U26QWEGN5xf1"
      },
      "source": [
        "## Define Features and Check Their Dimensions"
      ]
    },
    {
      "cell_type": "code",
      "metadata": {
        "id": "Q09cooFD6Faz"
      },
      "source": [
        "# Drop the DriversLicense and ZipCode features as they are not relevant to the problem\n",
        "# features = dataset2.drop(['DriversLicense', 'ZipCode'], axis=1).columns\n",
        "dataset2 = dataset2.drop(['DriversLicense', 'ZipCode'], axis=1)"
      ],
      "execution_count": null,
      "outputs": []
    },
    {
      "cell_type": "code",
      "metadata": {
        "id": "H_RDLTz5-zFm"
      },
      "source": [
        "# Drop the Approved class\n",
        "dataset2 = dataset2.drop(['Approved'], axis=1)"
      ],
      "execution_count": null,
      "outputs": []
    },
    {
      "cell_type": "code",
      "metadata": {
        "id": "LFldOLCX-eIW"
      },
      "source": [
        "# Retrieve the names of the features\n",
        "features = dataset2.columns"
      ],
      "execution_count": null,
      "outputs": []
    },
    {
      "cell_type": "code",
      "metadata": {
        "id": "F1QRvWNwcwJm"
      },
      "source": [
        "# List the features\n",
        "features"
      ],
      "execution_count": null,
      "outputs": []
    },
    {
      "cell_type": "code",
      "metadata": {
        "id": "oCCCzp2wceit"
      },
      "source": [
        "# Verify the dimension of the features variable\n",
        "features.shape"
      ],
      "execution_count": null,
      "outputs": []
    },
    {
      "cell_type": "code",
      "metadata": {
        "id": "Rn8rLduRbPxE"
      },
      "source": [
        "classes = ['Declined', 'Approved']"
      ],
      "execution_count": null,
      "outputs": []
    },
    {
      "cell_type": "markdown",
      "metadata": {
        "id": "FPEHzfcr6WXz"
      },
      "source": [
        "## Define the XGBoost Classifier"
      ]
    },
    {
      "cell_type": "code",
      "metadata": {
        "id": "tizuiBrurog5"
      },
      "source": [
        "# Import the XGBoost classifier\n",
        "!pip install xgboost\n",
        "from xgboost import XGBClassifier"
      ],
      "execution_count": null,
      "outputs": []
    },
    {
      "cell_type": "code",
      "metadata": {
        "id": "oWN9F0gwrzFn"
      },
      "source": [
        "# Define the XGBoost model\n",
        "xgb_model = XGBClassifier(max_depth=12,\n",
        "                      n_estimators=250,\n",
        "                      min_child_weight=8,\n",
        "                      subsample=0.8,\n",
        "                      learning_rate =0.02,\n",
        "                      seed=42)"
      ],
      "execution_count": null,
      "outputs": []
    },
    {
      "cell_type": "code",
      "metadata": {
        "id": "Wvmxfcp76djQ"
      },
      "source": [
        "# Fit the XGBoost model\n",
        "xgb_model.fit(rescaledX_train, y_train)"
      ],
      "execution_count": null,
      "outputs": []
    },
    {
      "cell_type": "code",
      "metadata": {
        "id": "heIRdm296e04"
      },
      "source": [
        "# Make predictions based on the XGBoost model\n",
        "y_pred_xgb = xgb_model.predict(rescaledX_test)"
      ],
      "execution_count": null,
      "outputs": []
    },
    {
      "cell_type": "code",
      "metadata": {
        "id": "XEbR8kvpMFnk"
      },
      "source": [
        "# Print the accuracy score for the XGBoost model\n",
        "print('Accuracy Score is {:.5}'.format(accuracy_score(y_test, y_pred_xgb)))"
      ],
      "execution_count": null,
      "outputs": []
    },
    {
      "cell_type": "markdown",
      "metadata": {
        "id": "rmDooSTp7La8"
      },
      "source": [
        "## Define the Explainer for XGBoost"
      ]
    },
    {
      "cell_type": "code",
      "metadata": {
        "id": "s1HnHVR2Ki5K"
      },
      "source": [
        "explainer_xgb = TabularExplainer(xgb_model,\n",
        "                             rescaledX_train,\n",
        "                             features=features,\n",
        "                             classes=classes)"
      ],
      "execution_count": null,
      "outputs": []
    },
    {
      "cell_type": "code",
      "metadata": {
        "id": "1_tKvstTKo-U"
      },
      "source": [
        "global_explanation_xgb = explainer_xgb.explain_global(rescaledX_test)"
      ],
      "execution_count": null,
      "outputs": []
    },
    {
      "cell_type": "markdown",
      "metadata": {
        "id": "Y8JJ1QqA7STx"
      },
      "source": [
        "**Check** X_train and X_test shapes before the experiment"
      ]
    },
    {
      "cell_type": "code",
      "metadata": {
        "id": "P5ExZTWmcIV2"
      },
      "source": [
        "X_train.shape"
      ],
      "execution_count": null,
      "outputs": []
    },
    {
      "cell_type": "code",
      "metadata": {
        "id": "5HwB0hkacKjl"
      },
      "source": [
        "X_test.shape"
      ],
      "execution_count": null,
      "outputs": []
    },
    {
      "cell_type": "code",
      "metadata": {
        "id": "R2NvZ25tAi2o"
      },
      "source": [
        "categorical_features = ['Male', 'Married', 'BankCustomer', 'EducationLevel', 'Ethnicity', 'PriorDefault', 'Employed']"
      ],
      "execution_count": null,
      "outputs": []
    },
    {
      "cell_type": "code",
      "metadata": {
        "id": "3zKgmCbTAkZ-"
      },
      "source": [
        "# Start the error analysis dashboard for XGBoost\n",
        "# ErrorAnalysisDashboard(global_explanation_xgb, dataset=rescaledX_test, true_y=y_test, categorical_features=categorical_features, pred_y=y_pred_xgb)\n",
        "ErrorAnalysisDashboard(global_explanation_xgb, xgb_model, dataset=rescaledX_test, true_y=y_test, categorical_features=categorical_features)"
      ],
      "execution_count": null,
      "outputs": []
    },
    {
      "cell_type": "code",
      "metadata": {
        "id": "VPGA-c1_BM7O"
      },
      "source": [
        "from raiwidgets import ExplanationDashboard"
      ],
      "execution_count": null,
      "outputs": []
    },
    {
      "cell_type": "code",
      "metadata": {
        "id": "KBRXqV7tBM7O"
      },
      "source": [
        "ExplanationDashboard(global_explanation_xgb, xgb_model, dataset=rescaledX_test, true_y=y_test)"
      ],
      "execution_count": null,
      "outputs": []
    },
    {
      "cell_type": "markdown",
      "metadata": {
        "id": "LRRJagkJJxSa"
      },
      "source": [
        "Saving the datasets (needed to explain the decisions for applicants)"
      ]
    },
    {
      "cell_type": "code",
      "metadata": {
        "id": "t1k2ENo5IGT0"
      },
      "source": [
        "X_tr = pd.DataFrame(X_train, columns = features)"
      ],
      "execution_count": null,
      "outputs": []
    },
    {
      "cell_type": "code",
      "metadata": {
        "id": "CHNPwy9PIhoO"
      },
      "source": [
        "X_tr['Decision'] = y_train"
      ],
      "execution_count": null,
      "outputs": []
    },
    {
      "cell_type": "code",
      "metadata": {
        "id": "KNlWB3b7Iq8f"
      },
      "source": [
        "# X_tr.to_csv('/content/train_data.csv', index=False)\n",
        "X_tr.to_csv('train_data.csv', index=False)"
      ],
      "execution_count": null,
      "outputs": []
    },
    {
      "cell_type": "code",
      "metadata": {
        "id": "siM7eIIWI5BV"
      },
      "source": [
        "X_te = pd.DataFrame(X_test, columns = features)"
      ],
      "execution_count": null,
      "outputs": []
    },
    {
      "cell_type": "code",
      "metadata": {
        "id": "MukYSSXzI5BW"
      },
      "source": [
        "X_te['Decision'] = y_test"
      ],
      "execution_count": null,
      "outputs": []
    },
    {
      "cell_type": "code",
      "metadata": {
        "id": "iZFdFlgaJLs9"
      },
      "source": [
        "X_te['Prediction'] = y_pred_xgb"
      ],
      "execution_count": null,
      "outputs": []
    },
    {
      "cell_type": "code",
      "metadata": {
        "id": "X7eaegKOI5BX"
      },
      "source": [
        "# X_te.to_csv('/content/test_data.csv', index=False)\n",
        "X_te.to_csv('test_data.csv', index=False)"
      ],
      "execution_count": null,
      "outputs": []
    },
    {
      "cell_type": "code",
      "metadata": {
        "id": "ZwnNAoG1JT9p"
      },
      "source": [
        "X_te[X_te['Prediction'] != X_te['Decision']]"
      ],
      "execution_count": null,
      "outputs": []
    },
    {
      "cell_type": "code",
      "metadata": {
        "id": "7MTf5OmHLRPY"
      },
      "source": [
        "X_te[(X_te['Income'] != 0) & (X_te['Prediction'] != X_te['Decision'])]"
      ],
      "execution_count": null,
      "outputs": []
    },
    {
      "cell_type": "markdown",
      "metadata": {
        "id": "qwnKJyIpcLGd"
      },
      "source": [
        "# 3. SHAP"
      ]
    },
    {
      "cell_type": "markdown",
      "metadata": {
        "id": "_qLNplFGPDQQ"
      },
      "source": [
        "## Define SHAP Explainer for XGBoost"
      ]
    },
    {
      "cell_type": "code",
      "metadata": {
        "id": "ON6nEw4zcd7v"
      },
      "source": [
        "# Import SHAP\n",
        "import shap"
      ],
      "execution_count": null,
      "outputs": []
    },
    {
      "cell_type": "code",
      "metadata": {
        "id": "VQT8xshrcgWu"
      },
      "source": [
        "# Define SHAP explainer based on XGBoost\n",
        "xgb_explainer = shap.Explainer(xgb_model, feature_names=features)"
      ],
      "execution_count": null,
      "outputs": []
    },
    {
      "cell_type": "code",
      "metadata": {
        "id": "cRALOow-ciib"
      },
      "source": [
        "# Function for plotting absolute values of SHAP\n",
        "def ABS_SHAP(df_shap,df):\n",
        "    #import matplotlib as plt\n",
        "    # Make a copy of the input data\n",
        "    shap_v = pd.DataFrame(df_shap)\n",
        "    feature_list = df.columns\n",
        "    shap_v.columns = feature_list\n",
        "    df_v = df.copy().reset_index().drop('index',axis=1)\n",
        "\n",
        "    # Determine the correlation in order to plot with different colors\n",
        "    corr_list = list()\n",
        "    for i in feature_list:\n",
        "        b = np.corrcoef(shap_v[i],df_v[i])[1][0]\n",
        "        corr_list.append(b)\n",
        "    corr_df = pd.concat([pd.Series(feature_list),pd.Series(corr_list)],axis=1).fillna(0)\n",
        "    # Make a data frame. Column 1 is the feature, and Column 2 is the correlation coefficient\n",
        "    corr_df.columns  = ['Variable','Corr']\n",
        "    corr_df['Sign'] = np.where(corr_df['Corr']>0,'red','blue')\n",
        "\n",
        "    # Plot it\n",
        "    shap_abs = np.abs(shap_v)\n",
        "    k=pd.DataFrame(shap_abs.mean()).reset_index()\n",
        "    k.columns = ['Variable','SHAP_abs']\n",
        "    k2 = k.merge(corr_df,left_on = 'Variable',right_on='Variable',how='inner')\n",
        "    k2 = k2.sort_values(by='SHAP_abs',ascending = True)\n",
        "    colorlist = k2['Sign']\n",
        "    ax = k2.plot.barh(x='Variable',y='SHAP_abs',color = colorlist, figsize=(10,12),legend=False)\n",
        "    ax.set_xlabel(\"SHAP Value (Red = Positive Impact)\")"
      ],
      "execution_count": null,
      "outputs": []
    },
    {
      "cell_type": "code",
      "metadata": {
        "id": "Gyq5_pKCcjGX"
      },
      "source": [
        "# Define SHAP values\n",
        "shap_values = xgb_explainer(rescaledX_train)"
      ],
      "execution_count": null,
      "outputs": []
    },
    {
      "cell_type": "code",
      "metadata": {
        "id": "s3ACumeKckv-"
      },
      "source": [
        "# Retrieve SHAP values\n",
        "shap_values[:,2]"
      ],
      "execution_count": null,
      "outputs": []
    },
    {
      "cell_type": "code",
      "metadata": {
        "id": "PFKPCXxrcm5I"
      },
      "source": [
        "# Check type of explainer\n",
        "type(xgb_explainer)"
      ],
      "execution_count": null,
      "outputs": []
    },
    {
      "cell_type": "markdown",
      "metadata": {
        "id": "u01lvecMcplr"
      },
      "source": [
        "## SHAP Plots to Explain XGBoost"
      ]
    },
    {
      "cell_type": "code",
      "metadata": {
        "id": "0SdeO34mcsY_"
      },
      "source": [
        "# Scatter plot\n",
        "shap.plots.scatter(shap_values[:,2], color=shap_values)"
      ],
      "execution_count": null,
      "outputs": []
    },
    {
      "cell_type": "code",
      "metadata": {
        "id": "OGK2NWc9ct2n"
      },
      "source": [
        "# Waterfall plot\n",
        "shap.waterfall_plot(shap_values[0], max_display=13)"
      ],
      "execution_count": null,
      "outputs": []
    },
    {
      "cell_type": "code",
      "metadata": {
        "id": "dS4OTJuZcuVL"
      },
      "source": [
        "# Beeswarm plot\n",
        "shap.plots.beeswarm(shap_values, max_display=13)"
      ],
      "execution_count": null,
      "outputs": []
    },
    {
      "cell_type": "code",
      "metadata": {
        "id": "YROdwA3icv6x"
      },
      "source": [
        "# Bar plot\n",
        "shap.plots.bar(shap_values, max_display=13)"
      ],
      "execution_count": null,
      "outputs": []
    },
    {
      "cell_type": "code",
      "metadata": {
        "id": "H96gLPq9cxWN"
      },
      "source": [
        "# Summary plot\n",
        "shap.summary_plot(shap_values = shap_values, features = rescaledX_train, plot_type='bar', max_display=13)"
      ],
      "execution_count": null,
      "outputs": []
    },
    {
      "cell_type": "code",
      "metadata": {
        "id": "hoGx0LfScywo"
      },
      "source": [
        "# Absolute values plot\n",
        "input_data = pd.DataFrame(rescaledX_train, columns=features)\n",
        "ABS_SHAP(shap_values.values, input_data)"
      ],
      "execution_count": null,
      "outputs": []
    },
    {
      "cell_type": "markdown",
      "metadata": {
        "id": "ro0lgLI8fUU-"
      },
      "source": [
        "# 4. Analysis of Selected Samples"
      ]
    },
    {
      "cell_type": "code",
      "metadata": {
        "id": "96pBvZ2wnO12"
      },
      "source": [
        "X_te.isna().sum().sum()"
      ],
      "execution_count": null,
      "outputs": []
    },
    {
      "cell_type": "markdown",
      "metadata": {
        "id": "HkAw0QC-tX3v"
      },
      "source": [
        "## Case 1: Both bank and model approved credit card request"
      ]
    },
    {
      "cell_type": "code",
      "metadata": {
        "id": "KuT588Tjnwr6"
      },
      "source": [
        "# List all applicants with non-zero income where both the bank and model approved the credit card request\n",
        "X_te[(X_te['Income'] != 0) & (X_te['Decision'] == 1) & (X_te['Prediction'] == 1)].iloc[:,:]"
      ],
      "execution_count": null,
      "outputs": []
    },
    {
      "cell_type": "code",
      "metadata": {
        "id": "ZEzWMf9Rosy9"
      },
      "source": [
        "# Select an applicant for Case 1 based on the above tabular results\n",
        "index1 = 1"
      ],
      "execution_count": null,
      "outputs": []
    },
    {
      "cell_type": "code",
      "metadata": {
        "id": "lg69ZwwcpdUj"
      },
      "source": [
        "# Display the feature values for the selected applicant\n",
        "X_te.iloc[index1,:]"
      ],
      "execution_count": null,
      "outputs": []
    },
    {
      "cell_type": "code",
      "metadata": {
        "id": "zKRDeRzDpJHV"
      },
      "source": [
        "v = X_te.iloc[index1,:13].values"
      ],
      "execution_count": null,
      "outputs": []
    },
    {
      "cell_type": "code",
      "metadata": {
        "id": "u40hIg69pu4M"
      },
      "source": [
        "v"
      ],
      "execution_count": null,
      "outputs": []
    },
    {
      "cell_type": "code",
      "metadata": {
        "id": "c1T1UTaepQR-"
      },
      "source": [
        "shap_values_approved = xgb_explainer([v])"
      ],
      "execution_count": null,
      "outputs": []
    },
    {
      "cell_type": "code",
      "metadata": {
        "id": "iwFkQRutptUs"
      },
      "source": [
        "shap_values_approved"
      ],
      "execution_count": null,
      "outputs": []
    },
    {
      "cell_type": "code",
      "metadata": {
        "id": "QhORLviilGt2"
      },
      "source": [
        "# Waterfall plot\n",
        "shap.waterfall_plot(shap_values_approved[0], max_display=13)"
      ],
      "execution_count": null,
      "outputs": []
    },
    {
      "cell_type": "markdown",
      "metadata": {
        "id": "1g0n45fetHk1"
      },
      "source": [
        "## Case 2: Both bank and model declined the credit card request"
      ]
    },
    {
      "cell_type": "code",
      "metadata": {
        "id": "d8uX-nPYrer-"
      },
      "source": [
        "# List all applicants with non-zero income where both the bank and model declined the credit card request\n",
        "X_te[(X_te['Income'] != 0) & (X_te['Decision'] == 0) & (X_te['Prediction'] == 0)].iloc[:,:]"
      ],
      "execution_count": null,
      "outputs": []
    },
    {
      "cell_type": "code",
      "metadata": {
        "id": "VyL_8UCSrer_"
      },
      "source": [
        "# Select an applicant for Case 2 based on the above tabular results\n",
        "index2 = 2"
      ],
      "execution_count": null,
      "outputs": []
    },
    {
      "cell_type": "code",
      "metadata": {
        "id": "82oaVrE0rer_"
      },
      "source": [
        "# Display the feature values for the selected applicant\n",
        "X_te.iloc[index2,:]"
      ],
      "execution_count": null,
      "outputs": []
    },
    {
      "cell_type": "code",
      "metadata": {
        "id": "O5luTESCrer_"
      },
      "source": [
        "v = X_te.iloc[index2,:13].values"
      ],
      "execution_count": null,
      "outputs": []
    },
    {
      "cell_type": "code",
      "metadata": {
        "id": "tK6tJiYFresA"
      },
      "source": [
        "v"
      ],
      "execution_count": null,
      "outputs": []
    },
    {
      "cell_type": "code",
      "metadata": {
        "id": "oEdrXG1YresA"
      },
      "source": [
        "shap_values_declined = xgb_explainer([v])"
      ],
      "execution_count": null,
      "outputs": []
    },
    {
      "cell_type": "code",
      "metadata": {
        "id": "AgVU3udGresA"
      },
      "source": [
        "shap_values_declined"
      ],
      "execution_count": null,
      "outputs": []
    },
    {
      "cell_type": "code",
      "metadata": {
        "id": "6oJM_8MmresA"
      },
      "source": [
        "# Waterfall plot\n",
        "shap.waterfall_plot(shap_values_declined[0], max_display=13)"
      ],
      "execution_count": null,
      "outputs": []
    },
    {
      "cell_type": "markdown",
      "metadata": {
        "id": "uIstn_SUs9FZ"
      },
      "source": [
        "## Case 3: Bank approved credit card request, while model rejected it"
      ]
    },
    {
      "cell_type": "code",
      "metadata": {
        "id": "BCZtxcdPsY6D"
      },
      "source": [
        "# List all applicants for which the bank approved their credit card request, while the model rejected it\n",
        "X_te[(X_te['Decision'] == 1) & (X_te['Prediction'] == 0)].iloc[:,:]"
      ],
      "execution_count": null,
      "outputs": []
    },
    {
      "cell_type": "code",
      "metadata": {
        "id": "71QMtJDesZCV"
      },
      "source": [
        "# Select an applicant for Case 3 based on the above tabular results\n",
        "index3 = 101"
      ],
      "execution_count": null,
      "outputs": []
    },
    {
      "cell_type": "code",
      "metadata": {
        "id": "GyGfHTt2sZCV"
      },
      "source": [
        "# Display the feature values for the selected applicant\n",
        "X_te.iloc[index3,:]"
      ],
      "execution_count": null,
      "outputs": []
    },
    {
      "cell_type": "code",
      "metadata": {
        "id": "mJunzfUQsZCW"
      },
      "source": [
        "v = X_te.iloc[index3,:13].values"
      ],
      "execution_count": null,
      "outputs": []
    },
    {
      "cell_type": "code",
      "metadata": {
        "id": "zUB246W1sZCW"
      },
      "source": [
        "v"
      ],
      "execution_count": null,
      "outputs": []
    },
    {
      "cell_type": "code",
      "metadata": {
        "id": "_hVUySxbsZCW"
      },
      "source": [
        "shap_values_approved_declined = xgb_explainer([v])"
      ],
      "execution_count": null,
      "outputs": []
    },
    {
      "cell_type": "code",
      "metadata": {
        "id": "DS0ew3q4sZCX"
      },
      "source": [
        "shap_values_approved_declined"
      ],
      "execution_count": null,
      "outputs": []
    },
    {
      "cell_type": "code",
      "metadata": {
        "id": "f6vhU7hSsZCX"
      },
      "source": [
        "# Waterfall plot\n",
        "shap.waterfall_plot(shap_values_approved_declined[0], max_display=13)"
      ],
      "execution_count": null,
      "outputs": []
    },
    {
      "cell_type": "markdown",
      "metadata": {
        "id": "2cs2zh3SWfpZ"
      },
      "source": [
        "## Case 4: Bank rejected credit card request, while model approved it"
      ]
    },
    {
      "cell_type": "code",
      "metadata": {
        "id": "mbyIwAeHWfDH"
      },
      "source": [
        "# List all applicants for which the bank rejected their credit card request, while the model approved it\n",
        "X_te[(X_te['Decision'] == 0) & (X_te['Prediction'] == 1)].iloc[:,:]"
      ],
      "execution_count": null,
      "outputs": []
    },
    {
      "cell_type": "code",
      "metadata": {
        "id": "EFOFsh02alY3"
      },
      "source": [
        "# Select an applicant for Case 4 based on the above tabular results\n",
        "index4 = 166"
      ],
      "execution_count": null,
      "outputs": []
    },
    {
      "cell_type": "code",
      "metadata": {
        "id": "I-18M8E9ap92"
      },
      "source": [
        "# Display the feature values for the selected applicant\n",
        "X_te.iloc[index4,:]"
      ],
      "execution_count": null,
      "outputs": []
    },
    {
      "cell_type": "code",
      "metadata": {
        "id": "VxNRNu8ZatrW"
      },
      "source": [
        "v = X_te.iloc[index4,:13].values"
      ],
      "execution_count": null,
      "outputs": []
    },
    {
      "cell_type": "code",
      "metadata": {
        "id": "r4v8p9lHawLu"
      },
      "source": [
        "v"
      ],
      "execution_count": null,
      "outputs": []
    },
    {
      "cell_type": "code",
      "metadata": {
        "id": "BL-A0YZcawmI"
      },
      "source": [
        "shap_values_declined_approved = xgb_explainer([v])"
      ],
      "execution_count": null,
      "outputs": []
    },
    {
      "cell_type": "code",
      "metadata": {
        "id": "pMilMmHMax18"
      },
      "source": [
        "shap_values_declined_approved"
      ],
      "execution_count": null,
      "outputs": []
    },
    {
      "cell_type": "code",
      "metadata": {
        "id": "59HLj1Yza2rn"
      },
      "source": [
        "# Waterfall plot\n",
        "shap.waterfall_plot(shap_values_declined_approved[0], max_display=13)"
      ],
      "execution_count": null,
      "outputs": []
    }
  ]
}
